{
 "cells": [
  {
   "cell_type": "markdown",
   "metadata": {},
   "source": [
    "# Homework Assignment 1 - Group 4\n",
    "### Emily Graves, Stuti Madaan, Tyler Nicholas, Olivia Hong\n",
    "### July 20, 2016"
   ]
  },
  {
   "cell_type": "markdown",
   "metadata": {},
   "source": [
    "# Problem 1 - Rock, Paper, Scissors\n",
    "\n",
    "## Approach\n",
    "### General Outline\n",
    "The approach for this game was done similarily to the calculator build-out done in class in that there are two functions that work together to request a user input and another function that plays the game. The function *request_user_input* lists out the possible inputs and calls upon *get_user_input* to take in and process the input. The function *play_game* takes in the user's input, generates a random selection of rock, paper, or scissors from the computer, and compares the two together in order to determine a \"win\", \"loss\", or \"draw\" for the human user. Additionally, the function *play_game* keeps track of the number of user wins and rounds played. \n",
    "\n",
    "### Checking for Erroneous User Inputs\n",
    "In order to eliminate the possibilities of incorrect or erroneous inputs by the user, a number system was utilized, assigning each possible option to a integer value (1 = rock, 2 = paper, and 3 = scissors). The *get_user_input* function evaluates whether or not the user's input can be converted to an integer value. If so, the integer value is passed on to the game. If not, the user is prompted to enter a new value, and this cycle will continue until an integer value is submitted. Once an integer value is passed through, the *play_game* function then establishes if the integer is valid (i.e. a number 1 through 4). If not, the user is once again directed to input a new value, and this new value will again be reviewed for integer properties and validity.  \n",
    "\n",
    "### Creating a Smart Computer\n",
    "The more times a user chooses a different value (rock, paper, or scissors) the computer makes note of that item along with the item needed to \"beat\" that particular user input (for example, if the user entered rock the computer should make note that paper would win in that scenario).  \n",
    "\n",
    "In order to create a \"smart\" computer that would be able to win more frequently against the human user, an inital list (titled options) was created with values 1, 2, and 3 corresponding to rock, paper, and scissors. In the first round of the game, the computer randomly selects one of the three values to play against the user. Once the user has input a value, the computer then appends the options list with the value (1, 2, or 3) that would have won against that user input. For example, if the user input 3 for scissors, the computer would add the value 1 for rock (since rock beats scissors) to the options list. For the second round, the computer will choose randomly from a list of 4 with some weight given to the item that would beat the user's previous input. Following the example above, the list would contain (1, 2, 3, 1). The logic behind this method is that if the user is randomly inputting values to play against the computer, the list the computer chooses from will remain random. However, if the user shows preference to a particular item, the computer will also show preference to the counter-item. The computer will continue adding to the options list until the user quits the game. The options list resets each time the user quits the game. \n",
    "\n",
    "### Playing the Game\n",
    "Using the methodology described above, the function *play_game* was created. The function randomly generates the computer's input, accepts the user input, then evaluates those inputs to determine a win, loss, or draw. The function runs from a series of embedded \"if-loops\" in order to evaluate the game inputs. Based on the computer and human user's choices, messages are printed out regarding the outcome for the user. If the user wins, a tally is added to the user's win count, and the round count is incremented by 1. The repeats requesting user inputs and evaluating the outcome until the user chooses to quit the game. Once the user quits, the number of wins and rounds is displayed. "
   ]
  },
  {
   "cell_type": "code",
   "execution_count": 1,
   "metadata": {
    "collapsed": true
   },
   "outputs": [],
   "source": [
    "def get_user_input(prompt):\n",
    "    ##prompt the user for a number and return the integer value of that input\n",
    "    while True:\n",
    "        x = raw_input(prompt)\n",
    "        try:\n",
    "            return int(x)\n",
    "        except ValueError:\n",
    "            print \"Invalid choice\"\n",
    "            print"
   ]
  },
  {
   "cell_type": "code",
   "execution_count": 2,
   "metadata": {
    "collapsed": true
   },
   "outputs": [],
   "source": [
    "def request_user_input():\n",
    "    ##print what options the user can play and ask the user to choose by directing the user to the get_user_input function\n",
    "    print\n",
    "    print \"Let's play rock, paper, scissors!\"\n",
    "    print \"Enter '1' for rock\"\n",
    "    print \"Enter '2' for paper\"\n",
    "    print \"Enter '3' for scissors\"\n",
    "    print \"Enter '4' if you would like to Quit\"\n",
    "    print\n",
    "    return get_user_input(\"Make your choice: \")"
   ]
  },
  {
   "cell_type": "code",
   "execution_count": 3,
   "metadata": {
    "collapsed": true
   },
   "outputs": [],
   "source": [
    "def play_game():\n",
    "    #use the user's input along with the computer's random selection to play a game of rock, paper, scissors\n",
    "    import random\n",
    "\n",
    "    round_count = 0    #initialize the number of rounds\n",
    "    user_win_count = 0 #initialize the number of times the user has won\n",
    "    options = [1, 2, 3]\n",
    "    \n",
    "    computer_select = random.choice(options)\n",
    "    \n",
    "    choice = request_user_input()\n",
    "    \n",
    "    while choice != 4: ##choice 4 was to quit the game\n",
    "        \n",
    "        ##process this choice\n",
    "        if int(choice) == 1:\n",
    "            options.append(2)\n",
    "            round_count += 1\n",
    "            if computer_select == 1:\n",
    "                print \"That's a draw!\"\n",
    "            elif computer_select == 2:\n",
    "                print \"You lose! Paper beats rock!\"\n",
    "            else:\n",
    "                user_win_count += 1\n",
    "                print \"You win! Rock beats scissors!\"\n",
    "        elif choice == 2:\n",
    "            options.append(3)\n",
    "            round_count += 1\n",
    "            if computer_select == 1:\n",
    "                user_win_count += 1\n",
    "                print \"You win! Paper beats rock!\"\n",
    "            elif computer_select == 2:\n",
    "                print \"That's a draw!\"\n",
    "            else:\n",
    "                print \"You lose! Scissors beats paper!\"\n",
    "        elif choice == 3:\n",
    "            options.append(1)\n",
    "            round_count += 1\n",
    "            if computer_select == 1:\n",
    "                print \"You lose! Rock beats scissors!\"\n",
    "            elif computer_select == 2:\n",
    "                user_win_count += 1\n",
    "                print \"You win! Scissors beats paper!\"\n",
    "            else:\n",
    "                print \"That's a draw!\"\n",
    "        else:\n",
    "            print \"Invalid choice\", choice\n",
    "            print \"Please choose again\"\n",
    "        \n",
    "        #get a new choice\n",
    "        choice = request_user_input()\n",
    "        computer_select = random.choice(options)\n",
    "    \n",
    "    print \"Thanks for playing!\"\n",
    "    print \"You won\", user_win_count, \"time(s) throughout\", round_count, \"round(s)\"\n",
    "    #print options (used to double check that the code was running correctly)"
   ]
  },
  {
   "cell_type": "code",
   "execution_count": 4,
   "metadata": {
    "collapsed": false
   },
   "outputs": [
    {
     "name": "stdout",
     "output_type": "stream",
     "text": [
      "\n",
      "Let's play rock, paper, scissors!\n",
      "Enter '1' for rock\n",
      "Enter '2' for paper\n",
      "Enter '3' for scissors\n",
      "Enter '4' if you would like to Quit\n",
      "\n",
      "Make your choice: 1\n",
      "That's a draw!\n",
      "\n",
      "Let's play rock, paper, scissors!\n",
      "Enter '1' for rock\n",
      "Enter '2' for paper\n",
      "Enter '3' for scissors\n",
      "Enter '4' if you would like to Quit\n",
      "\n",
      "Make your choice: 1\n",
      "You lose! Paper beats rock!\n",
      "\n",
      "Let's play rock, paper, scissors!\n",
      "Enter '1' for rock\n",
      "Enter '2' for paper\n",
      "Enter '3' for scissors\n",
      "Enter '4' if you would like to Quit\n",
      "\n",
      "Make your choice: 2\n",
      "That's a draw!\n",
      "\n",
      "Let's play rock, paper, scissors!\n",
      "Enter '1' for rock\n",
      "Enter '2' for paper\n",
      "Enter '3' for scissors\n",
      "Enter '4' if you would like to Quit\n",
      "\n",
      "Make your choice: 4\n",
      "Thanks for playing!\n",
      "You won 0 time(s) throughout 3 round(s)\n"
     ]
    }
   ],
   "source": [
    "play_game()"
   ]
  },
  {
   "cell_type": "markdown",
   "metadata": {},
   "source": [
    "# Problem 2 - Voters in Florida\n",
    "## Approach\n",
    "First import the re module. Then read in the file one line at a time, extracting the data between the 'td' tags with re.findall, removing the extra quotations and commas in the numbers. Since this results in many lines that are empty, we only include the lines with data. This results in a long list with each element being a string.\n",
    "Then loop through the resulting list, separating every six pieces of information into one group (corresponding to each county). Convert the republican and democrat column data to integers. Finally extract only the three columns we need--county, republican, and democrat. Sort the list by the number of democratic voters, using a lambda function.\n",
    "Finally loop through the list and print each tuple on its own line. Again we remove any extra characters that do not need to be there, such as parentheses, quotations around the county names, and commas between the data.\n"
   ]
  },
  {
   "cell_type": "code",
   "execution_count": 5,
   "metadata": {
    "collapsed": false
   },
   "outputs": [
    {
     "name": "stdout",
     "output_type": "stream",
     "text": [
      "LAFAYETTE 1373 2672\n",
      "GLADES 2190 3110\n",
      "LIBERTY 720 3372\n",
      "UNION 2752 3579\n",
      "GILCHRIST 5789 3652\n",
      "FRANKLIN 2234 4319\n",
      "HOLMES 5282 4434\n",
      "GULF 4234 4521\n",
      "HARDEE 4859 4702\n",
      "HAMILTON 2154 4796\n",
      "DIXIE 3314 4839\n",
      "CALHOUN 2201 5324\n",
      "WASHINGTON 7101 5687\n",
      "JEFFERSON 2636 5802\n",
      "BAKER 6963 5813\n",
      "BRADFORD 6878 6533\n",
      "TAYLOR 3950 6915\n",
      "MADISON 2992 7158\n",
      "DESOTO 4870 7181\n",
      "OKEECHOBEE 7755 7756\n",
      "HENDRY 5862 7999\n",
      "WAKULLA 7374 8889\n",
      "LEVY 11665 9509\n",
      "WALTON 25609 10013\n",
      "SUWANNEE 10745 11126\n",
      "NASSAU 32958 14013\n",
      "COLUMBIA 15790 14797\n",
      "JACKSON 9626 15706\n",
      "MONROE 20602 17614\n",
      "HIGHLANDS 27100 19997\n",
      "PUTNAM 17067 20606\n",
      "GADSDEN 4372 22161\n",
      "SUMTER 47158 22977\n",
      "FLAGLER 30047 24734\n",
      "OKALOOSA 75154 25172\n",
      "SANTA ROSA 73627 26114\n",
      "MARTIN 53800 27358\n",
      "INDIAN RIVER 47794 28204\n",
      "CITRUS 46373 30440\n",
      "BAY 57456 30733\n",
      "CLAY 76584 31285\n",
      "CHARLOTTE 54421 35602\n",
      "ST. JOHNS 88385 39531\n",
      "HERNANDO 51254 42499\n",
      "COLLIER 100167 45511\n",
      "LAKE 93604 67237\n",
      "MANATEE 96063 67926\n",
      "ESCAMBIA 90265 70180\n",
      "OSCEOLA 44594 75657\n",
      "ST. LUCIE 59626 76163\n",
      "MARION 97306 76268\n",
      "ALACHUA 47329 77996\n",
      "SARASOTA 125872 89711\n",
      "SEMINOLE 107833 91686\n",
      "LEON 54554 103140\n",
      "PASCO 125305 104324\n",
      "LEE 180718 114633\n",
      "VOLUSIA 121402 124136\n",
      "BREVARD 167129 127435\n",
      "POLK 140619 143799\n",
      "PINELLAS 223077 221968\n",
      "DUVAL 210195 229501\n",
      "ORANGE 206174 303458\n",
      "HILLSBOROUGH 257436 314265\n",
      "PALM BEACH 245452 367236\n",
      "MIAMI-DADE 362161 539367\n",
      "BROWARD 249762 566185\n",
      "Total 4377713 4637026\n"
     ]
    }
   ],
   "source": [
    "import re\n",
    "\n",
    "fp = open('FloridaVoters.html')\n",
    "\n",
    "lst = []\n",
    "line = fp.readline()\n",
    "for line in fp:\n",
    "    new_data = str(re.findall('<td>([-\\.a-zA-Z0-9,\\s]+)</td>',line)).lstrip('[').rstrip(']')\n",
    "    new_data = new_data.lstrip(\"'\").rstrip(\"'\").replace(\",\",\"\")\n",
    "    if len(new_data) != 0:\n",
    "        lst.append(new_data)\n",
    "fp.close()\n",
    "\n",
    "final_lst = []\n",
    "for i in range(0, len(lst), 6):\n",
    "    group = (lst[i:i + 6])\n",
    "    group[1] = int(group[1])\n",
    "    group[2] = int(group[2])\n",
    "    group = tuple(group[0:3])\n",
    "    final_lst.append(group)\n",
    "sorted_lst = sorted(final_lst, key=lambda x: x[2])\n",
    "\n",
    "for i in sorted_lst:\n",
    "    print str(i).lstrip('(').rstrip(')').replace(\"'\",\"\").replace(\",\",\"\")"
   ]
  },
  {
   "cell_type": "markdown",
   "metadata": {},
   "source": [
    "# Problem 3 - The Google of Quotes\n",
    "## Approach\n",
    "\n",
    "First we will import what we will need for this program"
   ]
  },
  {
   "cell_type": "code",
   "execution_count": 18,
   "metadata": {
    "collapsed": true
   },
   "outputs": [],
   "source": [
    "import re\n",
    "from collections import Counter\n",
    "from pprint import pprint\n",
    "import math"
   ]
  },
  {
   "cell_type": "markdown",
   "metadata": {},
   "source": [
    "### Part A\n",
    "\n",
    "Our first function is read_quotes(). This will take a text file and read it into a list with the quote and the speaker contained in the same item. The items will be strings."
   ]
  },
  {
   "cell_type": "code",
   "execution_count": 19,
   "metadata": {
    "collapsed": true
   },
   "outputs": [],
   "source": [
    "def read_quotes(input):\n",
    "\n",
    "    lines = open(input).read().split('\\n')\n",
    "    quote_list = []\n",
    "    for i in range(0,len(lines)-1,2):\n",
    "        quote1 = str(lines[i].replace('\"', \"\"))\n",
    "        quote1 = str(quote1.replace('.', \"\"))\n",
    "        quote1 = str(quote1.replace(',', \"\"))\n",
    "        quote1 = str(quote1.replace('?', \"\"))\n",
    "        quote1 = str(quote1.replace(\"(\", \"\"))\n",
    "        quote1 = str(quote1.replace(\")\", \"\"))\n",
    "        quote1 = str(quote1.replace(\":\", \"\"))\n",
    "        quote1 = str(quote1.replace(\";\", \"\"))\n",
    "        quote2 = quote1 + \" - \" + str(lines[i+1])\n",
    "        quote_list.append(quote2)\n",
    "    return quote_list"
   ]
  },
  {
   "cell_type": "markdown",
   "metadata": {},
   "source": [
    "### Part B\n",
    "\n",
    "The next function is words from quotes. This function will split a quote into a list of words contained in the quote. If a word appears in the quote more than once, it will only be in the list once."
   ]
  },
  {
   "cell_type": "code",
   "execution_count": 20,
   "metadata": {
    "collapsed": true
   },
   "outputs": [],
   "source": [
    "def words_from_quotes(input1):\n",
    "\n",
    "    input1 = input1.lower()\n",
    "    input1 = str(input1.replace('\"', \"\"))\n",
    "    input1 = str(input1.replace('.', \"\"))\n",
    "    input1 = str(input1.replace(',', \"\"))\n",
    "    input1 = str(input1.replace('?', \"\"))\n",
    "    input1 = str(input1.replace(\"(\", \"\"))\n",
    "    input1 = str(input1.replace(\")\", \"\"))\n",
    "    input1 = str(input1.replace(\":\", \"\"))\n",
    "    input1 = str(input1.replace(\";\", \"\"))\n",
    "    input1 = str(input1.replace(\"'\", \"`\"))\n",
    "    word_list = re.split(\" \",input1)\n",
    "    return word_list"
   ]
  },
  {
   "cell_type": "markdown",
   "metadata": {},
   "source": [
    "### Part C\n",
    "\n",
    "This function creates a dictionary where the keys are full quotes and the values are dictionaries themselves with a key being a word and the value being the number of times the word occurs in the full quote"
   ]
  },
  {
   "cell_type": "code",
   "execution_count": 21,
   "metadata": {
    "collapsed": true
   },
   "outputs": [],
   "source": [
    "def create_postings_list_dictionary(input2):\n",
    "\n",
    "    postings_list = {}\n",
    "    counter_list = []\n",
    "    for x in input2:\n",
    "        counter_dict = {}\n",
    "        wordlist = words_from_quotes(x)\n",
    "        for word in wordlist:\n",
    "            counter = 0\n",
    "            in_counter_list = False\n",
    "            for word2 in wordlist:\n",
    "                if word == word2:\n",
    "                    counter += 1\n",
    "            for y in counter_list:\n",
    "                if word == y:\n",
    "                    in_counter_list = True\n",
    "            if in_counter_list == False and word != '-':\n",
    "                counter_dict[word] = counter\n",
    "        postings_list[x] = counter_dict\n",
    "    return postings_list\n"
   ]
  },
  {
   "cell_type": "markdown",
   "metadata": {},
   "source": [
    "### Part D\n",
    "The function reverse_postings_list creates a list of all words used, then creates a reverse posting list by iterating through all words."
   ]
  },
  {
   "cell_type": "code",
   "execution_count": 22,
   "metadata": {
    "collapsed": true
   },
   "outputs": [],
   "source": [
    "def reverse_postings_list(input3):\n",
    "\n",
    "    word_list = []\n",
    "    keys = input3.keys()\n",
    "\n",
    "# create list of all words used\n",
    "\n",
    "    for x in keys:\n",
    "        y = words_from_quotes(x)\n",
    "        for words in y:\n",
    "            if words in word_list:\n",
    "                pass\n",
    "            elif words != '-':\n",
    "                word_list.append(words)\n",
    "\n",
    "#create reverse posting list by iterating through all words\n",
    "    word_dict = {}\n",
    "\n",
    "    for x in word_list:\n",
    "        word_dict[x] = {}\n",
    "        for y in keys:\n",
    "            if x in input3[y]:\n",
    "                counter = input3[y][x]\n",
    "                word_dict[x][y] = counter\n",
    "\n",
    "    return word_dict"
   ]
  },
  {
   "cell_type": "markdown",
   "metadata": {},
   "source": [
    "### Part E\n",
    "The function tf takes in a word and a quote and returns the (tf x idf) value of that word in the given quote."
   ]
  },
  {
   "cell_type": "code",
   "execution_count": 23,
   "metadata": {
    "collapsed": true
   },
   "outputs": [],
   "source": [
    "def tf(word, quote):\n",
    "\n",
    "        max = Counter(quote.split()).most_common()[0][1]\n",
    "        counter = 0\n",
    "        word_list = words_from_quotes(quote)\n",
    "        for x in word_list:\n",
    "            if x == word:\n",
    "                counter += 1\n",
    "        inputnum = counter\n",
    "        tf = float(inputnum) / float(max)\n",
    "        quotelist = read_quotes(\"quotes.txt\")\n",
    "        postlist = create_postings_list_dictionary(quotelist)\n",
    "        reverse_postlist = reverse_postings_list(postlist)\n",
    "        idf = math.log(895.0 / float(len(reverse_postlist[word])))\n",
    "        return idf*tf"
   ]
  },
  {
   "cell_type": "raw",
   "metadata": {},
   "source": [
    "The tf_idf function does not answer a particular part of the assignment but is used internally to create a dictionary with keys being the phrases and values being the tf*idf values. It is passed in a reverse postlist"
   ]
  },
  {
   "cell_type": "code",
   "execution_count": 24,
   "metadata": {
    "collapsed": true
   },
   "outputs": [],
   "source": [
    "def tf_idf(input4):\n",
    "\n",
    "    tf_idf_dict = {}\n",
    "    for keys in input4.keys():\n",
    "        max = Counter(keys.split()).most_common()[0][1]\n",
    "        inputnum = int(input4[keys])\n",
    "        tf = float(inputnum)/float(max)\n",
    "        idf = math.log(895.0/float(len(input4)))\n",
    "        tf_idf_dict[keys] = float(tf*idf)\n",
    "    return tf_idf_dict"
   ]
  },
  {
   "cell_type": "markdown",
   "metadata": {},
   "source": [
    "### Part F\n",
    "\n",
    "The function one_word_quote_search takes in a single word and outputs a dictionary with keys being the phrases and the values being the tf_idf values"
   ]
  },
  {
   "cell_type": "code",
   "execution_count": 25,
   "metadata": {
    "collapsed": true
   },
   "outputs": [],
   "source": [
    "def one_word_quote_search(word):\n",
    "\n",
    "    quotelist = read_quotes(\"quotes.txt\")\n",
    "    postlist = create_postings_list_dictionary(quotelist)\n",
    "    reverse_postlist = reverse_postings_list(postlist)\n",
    "    tf_dict = tf_idf(reverse_postlist[word])\n",
    "    return tf_dict"
   ]
  },
  {
   "cell_type": "code",
   "execution_count": 27,
   "metadata": {
    "collapsed": false
   },
   "outputs": [
    {
     "data": {
      "text/plain": [
       "{'A radical is a man with both feet firmly planted in the air\\r - Franklin D. Roosevelt\\r': 4.850913569219542,\n",
       " 'I cried because I had no shoes `till I met a man who had no feet So I said `You got any shoes you`re not using`\\r - Steven Wright\\r': 1.2127283923048855,\n",
       " 'If my children wake up on Christmas morning and have someone to thank for putting candy in their stocking have I no one to thank for putting two feet in mine\\r - GK Chesterton\\r': 2.425456784609771,\n",
       " 'Is there anything more beautiful than a beautiful beautiful flamingo flying across in front of a beautiful sunset And he`s carrying a beautiful rose in his beak and also he`s carrying a very beautiful painting with his feet And also you`re drunk\\r - Jack Handey\\r': 0.8084855948699237,\n",
       " 'Karate is a form of marital arts in which people who have had years and years of training can using only their hands and feet make some of the worst movies in the history of the world\\r - Dave Barry\\r': 1.2127283923048855,\n",
       " 'Show me your hands Do they have scars from giving Show me your feet Are they wounded in service Show me your heart Have you left a place for divine love\\r - Fulton J. Sheen\\r': 1.6169711897398473,\n",
       " 'Speeches are for the younger men who are going places And I`m not going anyplace except six feet under the floor of that little chapel adjoining the museum and library at Abilene\\r - Dwight Eisenhower\\r': 1.6169711897398473}"
      ]
     },
     "execution_count": 27,
     "metadata": {},
     "output_type": "execute_result"
    }
   ],
   "source": [
    "one_word_quote_search(\"feet\")"
   ]
  },
  {
   "cell_type": "markdown",
   "metadata": {},
   "source": [
    "### Part G\n",
    "The function mult_words_quote_search takes in a string of undetermined length, cleans it up and splits it into words and returns a dictionary with the sums of the tf-idf for all words in each applicable quote\n"
   ]
  },
  {
   "cell_type": "code",
   "execution_count": 28,
   "metadata": {
    "collapsed": true
   },
   "outputs": [],
   "source": [
    "def mult_words_quote_search(words):\n",
    "\n",
    "    #takes in a string of undetermined length, splits it into words and returns a dictionary with the sums of the tf-idf\n",
    "    #for each applicable quote\n",
    "\n",
    "    quotelist = read_quotes(\"quotes.txt\")\n",
    "    postlist = create_postings_list_dictionary(quotelist)\n",
    "    reverse_postlist = reverse_postings_list(postlist)\n",
    "    words_dict = {}\n",
    "    word_list = words_from_quotes(words)\n",
    "    good_word_list = []\n",
    "    for x in range(len(word_list)):\n",
    "        if word_list[x] in reverse_postlist.keys():\n",
    "            words_dict[word_list[x]] = one_word_quote_search(word_list[x])\n",
    "            good_word_list.append(word_list[x])\n",
    "    final_dict = {}\n",
    "    for key in words_dict.keys():\n",
    "        final_dict.update(words_dict[key])\n",
    "    for key in final_dict:\n",
    "        sums = 0\n",
    "        for y in good_word_list:\n",
    "            sums += tf(y,key)\n",
    "        final_dict[key] = sums\n",
    "    pprint(final_dict)\n",
    "    return final_dict"
   ]
  },
  {
   "cell_type": "code",
   "execution_count": 31,
   "metadata": {
    "collapsed": false
   },
   "outputs": [
    {
     "name": "stdout",
     "output_type": "stream",
     "text": [
      "{'A radical is a man with both feet firmly planted in the air\\r - Franklin D. Roosevelt\\r': 4.850913569219542,\n",
      " 'Being is desirable because it is identical with Beauty and Beauty is loved because it is Being We ourselves possess Beauty when we are true to our own being ugliness is in going over to another order knowing ourselves we are beautiful in self-ignorance we are ugly\\r - Ambrose Bierce\\r': 0.9701827138439084,\n",
      " 'I cried because I had no shoes `till I met a man who had no feet So I said `You got any shoes you`re not using`\\r - Steven Wright\\r': 1.2127283923048855,\n",
      " 'If my children wake up on Christmas morning and have someone to thank for putting candy in their stocking have I no one to thank for putting two feet in mine\\r - GK Chesterton\\r': 2.425456784609771,\n",
      " 'In life as in art the beautiful moves in curves\\r - Edward Bulwer-Lytton\\r': 2.425456784609771,\n",
      " 'In the Orthodox spiritual tradition the ultimate moral question we ask is the following Is what we are doing is what I am doing beautiful or not\\r - Carolyn Gifford\\r': 1.6169711897398473,\n",
      " 'Is there anything more beautiful than a beautiful beautiful flamingo flying across in front of a beautiful sunset And he`s carrying a beautiful rose in his beak and also he`s carrying a very beautiful painting with his feet And also you`re drunk\\r - Jack Handey\\r': 5.659399164089466,\n",
      " 'Karate is a form of marital arts in which people who have had years and years of training can using only their hands and feet make some of the worst movies in the history of the world\\r - Dave Barry\\r': 1.2127283923048855,\n",
      " 'Love is the delightful interval between meeting a beautiful girl and discovering that she looks like a haddock\\r - John Barrymore\\r': 2.425456784609771,\n",
      " 'Show me your hands Do they have scars from giving Show me your feet Are they wounded in service Show me your heart Have you left a place for divine love\\r - Fulton J. Sheen\\r': 1.6169711897398473,\n",
      " 'Speeches are for the younger men who are going places And I`m not going anyplace except six feet under the floor of that little chapel adjoining the museum and library at Abilene\\r - Dwight Eisenhower\\r': 1.6169711897398473,\n",
      " 'The best and most beautiful things in the world cannot be seen or even touched They must be felt with the heart\\r - Helen Keller\\r': 2.425456784609771,\n",
      " 'We must repsect the other fellow`s religion but only in the sense and to the extent that we respect his theory that his wife is beautiful and his children are smart\\r - Henry Mencken\\r': 1.6169711897398473}\n"
     ]
    },
    {
     "data": {
      "text/plain": [
       "{'A radical is a man with both feet firmly planted in the air\\r - Franklin D. Roosevelt\\r': 4.850913569219542,\n",
       " 'Being is desirable because it is identical with Beauty and Beauty is loved because it is Being We ourselves possess Beauty when we are true to our own being ugliness is in going over to another order knowing ourselves we are beautiful in self-ignorance we are ugly\\r - Ambrose Bierce\\r': 0.9701827138439084,\n",
       " 'I cried because I had no shoes `till I met a man who had no feet So I said `You got any shoes you`re not using`\\r - Steven Wright\\r': 1.2127283923048855,\n",
       " 'If my children wake up on Christmas morning and have someone to thank for putting candy in their stocking have I no one to thank for putting two feet in mine\\r - GK Chesterton\\r': 2.425456784609771,\n",
       " 'In life as in art the beautiful moves in curves\\r - Edward Bulwer-Lytton\\r': 2.425456784609771,\n",
       " 'In the Orthodox spiritual tradition the ultimate moral question we ask is the following Is what we are doing is what I am doing beautiful or not\\r - Carolyn Gifford\\r': 1.6169711897398473,\n",
       " 'Is there anything more beautiful than a beautiful beautiful flamingo flying across in front of a beautiful sunset And he`s carrying a beautiful rose in his beak and also he`s carrying a very beautiful painting with his feet And also you`re drunk\\r - Jack Handey\\r': 5.659399164089466,\n",
       " 'Karate is a form of marital arts in which people who have had years and years of training can using only their hands and feet make some of the worst movies in the history of the world\\r - Dave Barry\\r': 1.2127283923048855,\n",
       " 'Love is the delightful interval between meeting a beautiful girl and discovering that she looks like a haddock\\r - John Barrymore\\r': 2.425456784609771,\n",
       " 'Show me your hands Do they have scars from giving Show me your feet Are they wounded in service Show me your heart Have you left a place for divine love\\r - Fulton J. Sheen\\r': 1.6169711897398473,\n",
       " 'Speeches are for the younger men who are going places And I`m not going anyplace except six feet under the floor of that little chapel adjoining the museum and library at Abilene\\r - Dwight Eisenhower\\r': 1.6169711897398473,\n",
       " 'The best and most beautiful things in the world cannot be seen or even touched They must be felt with the heart\\r - Helen Keller\\r': 2.425456784609771,\n",
       " 'We must repsect the other fellow`s religion but only in the sense and to the extent that we respect his theory that his wife is beautiful and his children are smart\\r - Henry Mencken\\r': 1.6169711897398473}"
      ]
     },
     "execution_count": 31,
     "metadata": {},
     "output_type": "execute_result"
    }
   ],
   "source": [
    "mult_words_quote_search(\"feet, beautiful\")"
   ]
  },
  {
   "cell_type": "code",
   "execution_count": null,
   "metadata": {
    "collapsed": true
   },
   "outputs": [],
   "source": []
  }
 ],
 "metadata": {
  "kernelspec": {
   "display_name": "Python 2",
   "language": "python",
   "name": "python2"
  },
  "language_info": {
   "codemirror_mode": {
    "name": "ipython",
    "version": 2
   },
   "file_extension": ".py",
   "mimetype": "text/x-python",
   "name": "python",
   "nbconvert_exporter": "python",
   "pygments_lexer": "ipython2",
   "version": "2.7.11"
  }
 },
 "nbformat": 4,
 "nbformat_minor": 0
}
